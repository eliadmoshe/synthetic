{
  "cells": [
    {
      "cell_type": "markdown",
      "metadata": {
        "id": "view-in-github"
      },
      "source": [
        "# Prep JS runtime for Google Colab"
      ]
    },
    {
      "cell_type": "markdown",
      "metadata": {
        "id": "bjNF3VjPjJHV"
      },
      "source": [
        "Run cell (commands) below and then hit F5 (refresh the page) right after that"
      ]
    },
    {
      "cell_type": "code",
      "execution_count": null,
      "metadata": {
        "colab": {
          "base_uri": "https://localhost:8080/"
        },
        "id": "ZVkF16NwcMsZ",
        "outputId": "b6860e49-04ba-4337-ff1f-8db18c9cd30d",
        "vscode": {
          "languageId": "python"
        }
      },
      "outputs": [
        {
          "name": "stdout",
          "output_type": "stream",
          "text": [
            "\u001b[K\u001b[?25h\u001b[37;40mnpm\u001b[0m \u001b[0m\u001b[30;43mWARN\u001b[0m \u001b[0m\u001b[35mdeprecated\u001b[0m uuid@3.4.0: Please upgrade  to version 7 or higher.  Older versions may use Math.random() in certain circumstances, which is known to be problematic.  See https://v8.dev/blog/math-random for details.\n",
            "\u001b[K\u001b[?25h/tools/node/bin/ijs -> /tools/node/lib/node_modules/ijavascript/bin/ijavascript.js\n",
            "/tools/node/bin/ijsconsole -> /tools/node/lib/node_modules/ijavascript/bin/ijsconsole.js\n",
            "/tools/node/bin/ijsinstall -> /tools/node/lib/node_modules/ijavascript/bin/ijsinstall.js\n",
            "/tools/node/bin/ijskernel -> /tools/node/lib/node_modules/ijavascript/lib/kernel.js\n",
            "/tools/node/bin/ijsnotebook -> /tools/node/lib/node_modules/ijavascript/bin/ijsnotebook.js\n",
            "\n",
            "> zeromq@5.2.8 install /tools/node/lib/node_modules/ijavascript/node_modules/zeromq\n",
            "> node-gyp-build || npm run build:libzmq\n",
            "\n",
            "make: Entering directory '/tools/node/lib/node_modules/ijavascript/node_modules/zeromq/build'\n",
            "  ACTION binding_gyp_libzmq_target_prepare_build zmq/BUILD_SUCCESS\n",
            "Building libzmq for linux\n",
            "build_libzmq.sh: Building version 4.2.2 for architecture x64\n",
            "\n",
            "gzip: stdin: unexpected end of file\n",
            "tar: Unexpected EOF in archive\n",
            "tar: Unexpected EOF in archive\n",
            "tar: Error is not recoverable: exiting now\n",
            "  TOUCH Release/obj.target/libzmq.stamp\n",
            "  CXX(target) Release/obj.target/zmq/binding.o\n",
            "\u001b[01m\u001b[K../binding.cc:\u001b[m\u001b[K In member function ‘\u001b[01m\u001b[Kvoid zmq::Socket::NotifyReadReady()\u001b[m\u001b[K’:\n",
            "\u001b[01m\u001b[K../binding.cc:399:73:\u001b[m\u001b[K \u001b[01;35m\u001b[Kwarning: \u001b[m\u001b[K‘\u001b[01m\u001b[Kv8::Local<v8::Value> Nan::MakeCallback(v8::Local<v8::Object>, v8::Local<v8::Function>, int, v8::Local<v8::Value>*)\u001b[m\u001b[K’ is deprecated [\u001b[01;35m\u001b[K-Wdeprecated-declarations\u001b[m\u001b[K]\n",
            "     Nan::MakeCallback(this->handle(), callback_v.As<Function>(), 0, NULL\u001b[01;35m\u001b[K)\u001b[m\u001b[K;\n",
            "                                                                         \u001b[01;35m\u001b[K^\u001b[m\u001b[K\n",
            "In file included from \u001b[01m\u001b[K../binding.cc:40:0\u001b[m\u001b[K:\n",
            "\u001b[01m\u001b[K../../nan/nan.h:1026:46:\u001b[m\u001b[K \u001b[01;36m\u001b[Knote: \u001b[m\u001b[Kdeclared here\n",
            "   NAN_DEPRECATED inline v8::Local<v8::Value> \u001b[01;36m\u001b[KMakeCallback\u001b[m\u001b[K(\n",
            "                                              \u001b[01;36m\u001b[K^~~~~~~~~~~~\u001b[m\u001b[K\n",
            "\u001b[01m\u001b[K../binding.cc:\u001b[m\u001b[K In member function ‘\u001b[01m\u001b[Kvoid zmq::Socket::NotifySendReady()\u001b[m\u001b[K’:\n",
            "\u001b[01m\u001b[K../binding.cc:407:73:\u001b[m\u001b[K \u001b[01;35m\u001b[Kwarning: \u001b[m\u001b[K‘\u001b[01m\u001b[Kv8::Local<v8::Value> Nan::MakeCallback(v8::Local<v8::Object>, v8::Local<v8::Function>, int, v8::Local<v8::Value>*)\u001b[m\u001b[K’ is deprecated [\u001b[01;35m\u001b[K-Wdeprecated-declarations\u001b[m\u001b[K]\n",
            "     Nan::MakeCallback(this->handle(), callback_v.As<Function>(), 0, NULL\u001b[01;35m\u001b[K)\u001b[m\u001b[K;\n",
            "                                                                         \u001b[01;35m\u001b[K^\u001b[m\u001b[K\n",
            "In file included from \u001b[01m\u001b[K../binding.cc:40:0\u001b[m\u001b[K:\n",
            "\u001b[01m\u001b[K../../nan/nan.h:1026:46:\u001b[m\u001b[K \u001b[01;36m\u001b[Knote: \u001b[m\u001b[Kdeclared here\n",
            "   NAN_DEPRECATED inline v8::Local<v8::Value> \u001b[01;36m\u001b[KMakeCallback\u001b[m\u001b[K(\n",
            "                                              \u001b[01;36m\u001b[K^~~~~~~~~~~~\u001b[m\u001b[K\n",
            "\u001b[01m\u001b[K../binding.cc:\u001b[m\u001b[K In member function ‘\u001b[01m\u001b[Kvoid zmq::Socket::MonitorEvent(uint16_t, int32_t, char*)\u001b[m\u001b[K’:\n",
            "\u001b[01m\u001b[K../binding.cc:458:73:\u001b[m\u001b[K \u001b[01;35m\u001b[Kwarning: \u001b[m\u001b[K‘\u001b[01m\u001b[Kv8::Local<v8::Value> Nan::MakeCallback(v8::Local<v8::Object>, v8::Local<v8::Function>, int, v8::Local<v8::Value>*)\u001b[m\u001b[K’ is deprecated [\u001b[01;35m\u001b[K-Wdeprecated-declarations\u001b[m\u001b[K]\n",
            "     Nan::MakeCallback(this->handle(), callback_v.As<Function>(), 4, argv\u001b[01;35m\u001b[K)\u001b[m\u001b[K;\n",
            "                                                                         \u001b[01;35m\u001b[K^\u001b[m\u001b[K\n",
            "In file included from \u001b[01m\u001b[K../binding.cc:40:0\u001b[m\u001b[K:\n",
            "\u001b[01m\u001b[K../../nan/nan.h:1026:46:\u001b[m\u001b[K \u001b[01;36m\u001b[Knote: \u001b[m\u001b[Kdeclared here\n",
            "   NAN_DEPRECATED inline v8::Local<v8::Value> \u001b[01;36m\u001b[KMakeCallback\u001b[m\u001b[K(\n",
            "                                              \u001b[01;36m\u001b[K^~~~~~~~~~~~\u001b[m\u001b[K\n",
            "\u001b[01m\u001b[K../binding.cc:\u001b[m\u001b[K In member function ‘\u001b[01m\u001b[Kvoid zmq::Socket::MonitorError(const char*)\u001b[m\u001b[K’:\n",
            "\u001b[01m\u001b[K../binding.cc:473:73:\u001b[m\u001b[K \u001b[01;35m\u001b[Kwarning: \u001b[m\u001b[K‘\u001b[01m\u001b[Kv8::Local<v8::Value> Nan::MakeCallback(v8::Local<v8::Object>, v8::Local<v8::Function>, int, v8::Local<v8::Value>*)\u001b[m\u001b[K’ is deprecated [\u001b[01;35m\u001b[K-Wdeprecated-declarations\u001b[m\u001b[K]\n",
            "     Nan::MakeCallback(this->handle(), callback_v.As<Function>(), 1, argv\u001b[01;35m\u001b[K)\u001b[m\u001b[K;\n",
            "                                                                         \u001b[01;35m\u001b[K^\u001b[m\u001b[K\n",
            "In file included from \u001b[01m\u001b[K../binding.cc:40:0\u001b[m\u001b[K:\n",
            "\u001b[01m\u001b[K../../nan/nan.h:1026:46:\u001b[m\u001b[K \u001b[01;36m\u001b[Knote: \u001b[m\u001b[Kdeclared here\n",
            "   NAN_DEPRECATED inline v8::Local<v8::Value> \u001b[01;36m\u001b[KMakeCallback\u001b[m\u001b[K(\n",
            "                                              \u001b[01;36m\u001b[K^~~~~~~~~~~~\u001b[m\u001b[K\n",
            "\u001b[01m\u001b[K../binding.cc:\u001b[m\u001b[K In static member function ‘\u001b[01m\u001b[Kstatic void zmq::Socket::UV_BindAsyncAfter(uv_work_t*)\u001b[m\u001b[K’:\n",
            "\u001b[01m\u001b[K../binding.cc:814:70:\u001b[m\u001b[K \u001b[01;35m\u001b[Kwarning: \u001b[m\u001b[K‘\u001b[01m\u001b[Kv8::Local<v8::Value> Nan::MakeCallback(v8::Local<v8::Object>, v8::Local<v8::Function>, int, v8::Local<v8::Value>*)\u001b[m\u001b[K’ is deprecated [\u001b[01;35m\u001b[K-Wdeprecated-declarations\u001b[m\u001b[K]\n",
            "     Nan::MakeCallback(Nan::GetCurrentContext()->Global(), cb, 1, argv\u001b[01;35m\u001b[K)\u001b[m\u001b[K;\n",
            "                                                                      \u001b[01;35m\u001b[K^\u001b[m\u001b[K\n",
            "In file included from \u001b[01m\u001b[K../binding.cc:40:0\u001b[m\u001b[K:\n",
            "\u001b[01m\u001b[K../../nan/nan.h:1026:46:\u001b[m\u001b[K \u001b[01;36m\u001b[Knote: \u001b[m\u001b[Kdeclared here\n",
            "   NAN_DEPRECATED inline v8::Local<v8::Value> \u001b[01;36m\u001b[KMakeCallback\u001b[m\u001b[K(\n",
            "                                              \u001b[01;36m\u001b[K^~~~~~~~~~~~\u001b[m\u001b[K\n",
            "\u001b[01m\u001b[K../binding.cc:\u001b[m\u001b[K In static member function ‘\u001b[01m\u001b[Kstatic void zmq::Socket::UV_UnbindAsyncAfter(uv_work_t*)\u001b[m\u001b[K’:\n",
            "\u001b[01m\u001b[K../binding.cc:893:70:\u001b[m\u001b[K \u001b[01;35m\u001b[Kwarning: \u001b[m\u001b[K‘\u001b[01m\u001b[Kv8::Local<v8::Value> Nan::MakeCallback(v8::Local<v8::Object>, v8::Local<v8::Function>, int, v8::Local<v8::Value>*)\u001b[m\u001b[K’ is deprecated [\u001b[01;35m\u001b[K-Wdeprecated-declarations\u001b[m\u001b[K]\n",
            "     Nan::MakeCallback(Nan::GetCurrentContext()->Global(), cb, 1, argv\u001b[01;35m\u001b[K)\u001b[m\u001b[K;\n",
            "                                                                      \u001b[01;35m\u001b[K^\u001b[m\u001b[K\n",
            "In file included from \u001b[01m\u001b[K../binding.cc:40:0\u001b[m\u001b[K:\n",
            "\u001b[01m\u001b[K../../nan/nan.h:1026:46:\u001b[m\u001b[K \u001b[01;36m\u001b[Knote: \u001b[m\u001b[Kdeclared here\n",
            "   NAN_DEPRECATED inline v8::Local<v8::Value> \u001b[01;36m\u001b[KMakeCallback\u001b[m\u001b[K(\n",
            "                                              \u001b[01;36m\u001b[K^~~~~~~~~~~~\u001b[m\u001b[K\n",
            "  SOLINK_MODULE(target) Release/obj.target/zmq.node\n",
            "\u001b[01m\u001b[Kg++:\u001b[m\u001b[K \u001b[01;31m\u001b[Kerror: \u001b[m\u001b[K./Release/../../zmq/lib/libzmq.a: No such file or directory\n",
            "zmq.target.mk:143: recipe for target 'Release/obj.target/zmq.node' failed\n",
            "make: *** [Release/obj.target/zmq.node] Error 1\n",
            "make: Leaving directory '/tools/node/lib/node_modules/ijavascript/node_modules/zeromq/build'\n",
            "\u001b[37;40mgyp\u001b[0m \u001b[0m\u001b[31;40mERR!\u001b[0m \u001b[0m\u001b[35mbuild error\u001b[0m \n",
            "\u001b[0m\u001b[37;40mgyp\u001b[0m \u001b[0m\u001b[31;40mERR!\u001b[0m \u001b[0m\u001b[35mstack\u001b[0m Error: `make` failed with exit code: 2\n",
            "\u001b[0m\u001b[37;40mgyp\u001b[0m \u001b[0m\u001b[31;40mERR!\u001b[0m \u001b[0m\u001b[35mstack\u001b[0m     at ChildProcess.onExit (/tools/node/lib/node_modules/npm/node_modules/node-gyp/lib/build.js:194:23)\n",
            "\u001b[0m\u001b[37;40mgyp\u001b[0m \u001b[0m\u001b[31;40mERR!\u001b[0m \u001b[0m\u001b[35mstack\u001b[0m     at ChildProcess.emit (events.js:315:20)\n",
            "\u001b[0m\u001b[37;40mgyp\u001b[0m \u001b[0m\u001b[31;40mERR!\u001b[0m \u001b[0m\u001b[35mstack\u001b[0m     at Process.ChildProcess._handle.onexit (internal/child_process.js:277:12)\n",
            "\u001b[0m\u001b[37;40mgyp\u001b[0m \u001b[0m\u001b[31;40mERR!\u001b[0m \u001b[0m\u001b[35mSystem\u001b[0m Linux 5.4.188+\n",
            "\u001b[0m\u001b[37;40mgyp\u001b[0m \u001b[0m\u001b[31;40mERR!\u001b[0m \u001b[0m\u001b[35mcommand\u001b[0m \"/tools/node/bin/node\" \"/tools/node/lib/node_modules/npm/node_modules/node-gyp/bin/node-gyp.js\" \"rebuild\"\n",
            "\u001b[0m\u001b[37;40mgyp\u001b[0m \u001b[0m\u001b[31;40mERR!\u001b[0m \u001b[0m\u001b[35mcwd\u001b[0m /tools/node/lib/node_modules/ijavascript/node_modules/zeromq\n",
            "\u001b[0m\u001b[37;40mgyp\u001b[0m \u001b[0m\u001b[31;40mERR!\u001b[0m \u001b[0m\u001b[35mnode -v\u001b[0m v14.16.0\n",
            "\u001b[0m\u001b[37;40mgyp\u001b[0m \u001b[0m\u001b[31;40mERR!\u001b[0m \u001b[0m\u001b[35mnode-gyp -v\u001b[0m v5.1.0\n",
            "\u001b[0m\u001b[37;40mgyp\u001b[0m \u001b[0m\u001b[31;40mERR!\u001b[0m \u001b[0m\u001b[35mnot ok\u001b[0m \n",
            "\u001b[0m\n",
            "> zeromq@5.2.8 build:libzmq /tools/node/lib/node_modules/ijavascript/node_modules/zeromq\n",
            "> node-gyp rebuild\n",
            "\n",
            "make: Entering directory '/tools/node/lib/node_modules/ijavascript/node_modules/zeromq/build'\n",
            "  ACTION binding_gyp_libzmq_target_prepare_build zmq/BUILD_SUCCESS\n",
            "Libzmq found, skipping rebuild.\n",
            "  TOUCH Release/obj.target/libzmq.stamp\n",
            "  CXX(target) Release/obj.target/zmq/binding.o\n",
            "\u001b[01m\u001b[K../binding.cc:\u001b[m\u001b[K In member function ‘\u001b[01m\u001b[Kvoid zmq::Socket::NotifyReadReady()\u001b[m\u001b[K’:\n",
            "\u001b[01m\u001b[K../binding.cc:399:73:\u001b[m\u001b[K \u001b[01;35m\u001b[Kwarning: \u001b[m\u001b[K‘\u001b[01m\u001b[Kv8::Local<v8::Value> Nan::MakeCallback(v8::Local<v8::Object>, v8::Local<v8::Function>, int, v8::Local<v8::Value>*)\u001b[m\u001b[K’ is deprecated [\u001b[01;35m\u001b[K-Wdeprecated-declarations\u001b[m\u001b[K]\n",
            "     Nan::MakeCallback(this->handle(), callback_v.As<Function>(), 0, NULL\u001b[01;35m\u001b[K)\u001b[m\u001b[K;\n",
            "                                                                         \u001b[01;35m\u001b[K^\u001b[m\u001b[K\n",
            "In file included from \u001b[01m\u001b[K../binding.cc:40:0\u001b[m\u001b[K:\n",
            "\u001b[01m\u001b[K../../nan/nan.h:1026:46:\u001b[m\u001b[K \u001b[01;36m\u001b[Knote: \u001b[m\u001b[Kdeclared here\n",
            "   NAN_DEPRECATED inline v8::Local<v8::Value> \u001b[01;36m\u001b[KMakeCallback\u001b[m\u001b[K(\n",
            "                                              \u001b[01;36m\u001b[K^~~~~~~~~~~~\u001b[m\u001b[K\n",
            "\u001b[01m\u001b[K../binding.cc:\u001b[m\u001b[K In member function ‘\u001b[01m\u001b[Kvoid zmq::Socket::NotifySendReady()\u001b[m\u001b[K’:\n",
            "\u001b[01m\u001b[K../binding.cc:407:73:\u001b[m\u001b[K \u001b[01;35m\u001b[Kwarning: \u001b[m\u001b[K‘\u001b[01m\u001b[Kv8::Local<v8::Value> Nan::MakeCallback(v8::Local<v8::Object>, v8::Local<v8::Function>, int, v8::Local<v8::Value>*)\u001b[m\u001b[K’ is deprecated [\u001b[01;35m\u001b[K-Wdeprecated-declarations\u001b[m\u001b[K]\n",
            "     Nan::MakeCallback(this->handle(), callback_v.As<Function>(), 0, NULL\u001b[01;35m\u001b[K)\u001b[m\u001b[K;\n",
            "                                                                         \u001b[01;35m\u001b[K^\u001b[m\u001b[K\n",
            "In file included from \u001b[01m\u001b[K../binding.cc:40:0\u001b[m\u001b[K:\n",
            "\u001b[01m\u001b[K../../nan/nan.h:1026:46:\u001b[m\u001b[K \u001b[01;36m\u001b[Knote: \u001b[m\u001b[Kdeclared here\n",
            "   NAN_DEPRECATED inline v8::Local<v8::Value> \u001b[01;36m\u001b[KMakeCallback\u001b[m\u001b[K(\n",
            "                                              \u001b[01;36m\u001b[K^~~~~~~~~~~~\u001b[m\u001b[K\n",
            "\u001b[01m\u001b[K../binding.cc:\u001b[m\u001b[K In member function ‘\u001b[01m\u001b[Kvoid zmq::Socket::MonitorEvent(uint16_t, int32_t, char*)\u001b[m\u001b[K’:\n",
            "\u001b[01m\u001b[K../binding.cc:458:73:\u001b[m\u001b[K \u001b[01;35m\u001b[Kwarning: \u001b[m\u001b[K‘\u001b[01m\u001b[Kv8::Local<v8::Value> Nan::MakeCallback(v8::Local<v8::Object>, v8::Local<v8::Function>, int, v8::Local<v8::Value>*)\u001b[m\u001b[K’ is deprecated [\u001b[01;35m\u001b[K-Wdeprecated-declarations\u001b[m\u001b[K]\n",
            "     Nan::MakeCallback(this->handle(), callback_v.As<Function>(), 4, argv\u001b[01;35m\u001b[K)\u001b[m\u001b[K;\n",
            "                                                                         \u001b[01;35m\u001b[K^\u001b[m\u001b[K\n",
            "In file included from \u001b[01m\u001b[K../binding.cc:40:0\u001b[m\u001b[K:\n",
            "\u001b[01m\u001b[K../../nan/nan.h:1026:46:\u001b[m\u001b[K \u001b[01;36m\u001b[Knote: \u001b[m\u001b[Kdeclared here\n",
            "   NAN_DEPRECATED inline v8::Local<v8::Value> \u001b[01;36m\u001b[KMakeCallback\u001b[m\u001b[K(\n",
            "                                              \u001b[01;36m\u001b[K^~~~~~~~~~~~\u001b[m\u001b[K\n",
            "\u001b[01m\u001b[K../binding.cc:\u001b[m\u001b[K In member function ‘\u001b[01m\u001b[Kvoid zmq::Socket::MonitorError(const char*)\u001b[m\u001b[K’:\n",
            "\u001b[01m\u001b[K../binding.cc:473:73:\u001b[m\u001b[K \u001b[01;35m\u001b[Kwarning: \u001b[m\u001b[K‘\u001b[01m\u001b[Kv8::Local<v8::Value> Nan::MakeCallback(v8::Local<v8::Object>, v8::Local<v8::Function>, int, v8::Local<v8::Value>*)\u001b[m\u001b[K’ is deprecated [\u001b[01;35m\u001b[K-Wdeprecated-declarations\u001b[m\u001b[K]\n",
            "     Nan::MakeCallback(this->handle(), callback_v.As<Function>(), 1, argv\u001b[01;35m\u001b[K)\u001b[m\u001b[K;\n",
            "                                                                         \u001b[01;35m\u001b[K^\u001b[m\u001b[K\n",
            "In file included from \u001b[01m\u001b[K../binding.cc:40:0\u001b[m\u001b[K:\n",
            "\u001b[01m\u001b[K../../nan/nan.h:1026:46:\u001b[m\u001b[K \u001b[01;36m\u001b[Knote: \u001b[m\u001b[Kdeclared here\n",
            "   NAN_DEPRECATED inline v8::Local<v8::Value> \u001b[01;36m\u001b[KMakeCallback\u001b[m\u001b[K(\n",
            "                                              \u001b[01;36m\u001b[K^~~~~~~~~~~~\u001b[m\u001b[K\n",
            "\u001b[01m\u001b[K../binding.cc:\u001b[m\u001b[K In static member function ‘\u001b[01m\u001b[Kstatic void zmq::Socket::UV_BindAsyncAfter(uv_work_t*)\u001b[m\u001b[K’:\n",
            "\u001b[01m\u001b[K../binding.cc:814:70:\u001b[m\u001b[K \u001b[01;35m\u001b[Kwarning: \u001b[m\u001b[K‘\u001b[01m\u001b[Kv8::Local<v8::Value> Nan::MakeCallback(v8::Local<v8::Object>, v8::Local<v8::Function>, int, v8::Local<v8::Value>*)\u001b[m\u001b[K’ is deprecated [\u001b[01;35m\u001b[K-Wdeprecated-declarations\u001b[m\u001b[K]\n",
            "     Nan::MakeCallback(Nan::GetCurrentContext()->Global(), cb, 1, argv\u001b[01;35m\u001b[K)\u001b[m\u001b[K;\n",
            "                                                                      \u001b[01;35m\u001b[K^\u001b[m\u001b[K\n",
            "In file included from \u001b[01m\u001b[K../binding.cc:40:0\u001b[m\u001b[K:\n",
            "\u001b[01m\u001b[K../../nan/nan.h:1026:46:\u001b[m\u001b[K \u001b[01;36m\u001b[Knote: \u001b[m\u001b[Kdeclared here\n",
            "   NAN_DEPRECATED inline v8::Local<v8::Value> \u001b[01;36m\u001b[KMakeCallback\u001b[m\u001b[K(\n",
            "                                              \u001b[01;36m\u001b[K^~~~~~~~~~~~\u001b[m\u001b[K\n",
            "\u001b[01m\u001b[K../binding.cc:\u001b[m\u001b[K In static member function ‘\u001b[01m\u001b[Kstatic void zmq::Socket::UV_UnbindAsyncAfter(uv_work_t*)\u001b[m\u001b[K’:\n",
            "\u001b[01m\u001b[K../binding.cc:893:70:\u001b[m\u001b[K \u001b[01;35m\u001b[Kwarning: \u001b[m\u001b[K‘\u001b[01m\u001b[Kv8::Local<v8::Value> Nan::MakeCallback(v8::Local<v8::Object>, v8::Local<v8::Function>, int, v8::Local<v8::Value>*)\u001b[m\u001b[K’ is deprecated [\u001b[01;35m\u001b[K-Wdeprecated-declarations\u001b[m\u001b[K]\n",
            "     Nan::MakeCallback(Nan::GetCurrentContext()->Global(), cb, 1, argv\u001b[01;35m\u001b[K)\u001b[m\u001b[K;\n",
            "                                                                      \u001b[01;35m\u001b[K^\u001b[m\u001b[K\n",
            "In file included from \u001b[01m\u001b[K../binding.cc:40:0\u001b[m\u001b[K:\n",
            "\u001b[01m\u001b[K../../nan/nan.h:1026:46:\u001b[m\u001b[K \u001b[01;36m\u001b[Knote: \u001b[m\u001b[Kdeclared here\n",
            "   NAN_DEPRECATED inline v8::Local<v8::Value> \u001b[01;36m\u001b[KMakeCallback\u001b[m\u001b[K(\n",
            "                                              \u001b[01;36m\u001b[K^~~~~~~~~~~~\u001b[m\u001b[K\n",
            "  SOLINK_MODULE(target) Release/obj.target/zmq.node\n",
            "\u001b[01m\u001b[Kg++:\u001b[m\u001b[K \u001b[01;31m\u001b[Kerror: \u001b[m\u001b[K./Release/../../zmq/lib/libzmq.a: No such file or directory\n",
            "zmq.target.mk:143: recipe for target 'Release/obj.target/zmq.node' failed\n",
            "make: *** [Release/obj.target/zmq.node] Error 1\n",
            "make: Leaving directory '/tools/node/lib/node_modules/ijavascript/node_modules/zeromq/build'\n",
            "\u001b[37;40mgyp\u001b[0m \u001b[0m\u001b[31;40mERR!\u001b[0m \u001b[0m\u001b[35mbuild error\u001b[0m \n",
            "\u001b[0m\u001b[37;40mgyp\u001b[0m \u001b[0m\u001b[31;40mERR!\u001b[0m \u001b[0m\u001b[35mstack\u001b[0m Error: `make` failed with exit code: 2\n",
            "\u001b[0m\u001b[37;40mgyp\u001b[0m \u001b[0m\u001b[31;40mERR!\u001b[0m \u001b[0m\u001b[35mstack\u001b[0m     at ChildProcess.onExit (/tools/node/lib/node_modules/npm/node_modules/node-gyp/lib/build.js:194:23)\n",
            "\u001b[0m\u001b[37;40mgyp\u001b[0m \u001b[0m\u001b[31;40mERR!\u001b[0m \u001b[0m\u001b[35mstack\u001b[0m     at ChildProcess.emit (events.js:315:20)\n",
            "\u001b[0m\u001b[37;40mgyp\u001b[0m \u001b[0m\u001b[31;40mERR!\u001b[0m \u001b[0m\u001b[35mstack\u001b[0m     at Process.ChildProcess._handle.onexit (internal/child_process.js:277:12)\n",
            "\u001b[0m\u001b[37;40mgyp\u001b[0m \u001b[0m\u001b[31;40mERR!\u001b[0m \u001b[0m\u001b[35mSystem\u001b[0m Linux 5.4.188+\n",
            "\u001b[0m\u001b[37;40mgyp\u001b[0m \u001b[0m\u001b[31;40mERR!\u001b[0m \u001b[0m\u001b[35mcommand\u001b[0m \"/tools/node/bin/node\" \"/tools/node/lib/node_modules/npm/node_modules/node-gyp/bin/node-gyp.js\" \"rebuild\"\n",
            "\u001b[0m\u001b[37;40mgyp\u001b[0m \u001b[0m\u001b[31;40mERR!\u001b[0m \u001b[0m\u001b[35mcwd\u001b[0m /tools/node/lib/node_modules/ijavascript/node_modules/zeromq\n",
            "\u001b[0m\u001b[37;40mgyp\u001b[0m \u001b[0m\u001b[31;40mERR!\u001b[0m \u001b[0m\u001b[35mnode -v\u001b[0m v14.16.0\n",
            "\u001b[0m\u001b[37;40mgyp\u001b[0m \u001b[0m\u001b[31;40mERR!\u001b[0m \u001b[0m\u001b[35mnode-gyp -v\u001b[0m v5.1.0\n",
            "\u001b[0m\u001b[37;40mgyp\u001b[0m \u001b[0m\u001b[31;40mERR!\u001b[0m \u001b[0m\u001b[35mnot ok\u001b[0m \n",
            "\u001b[0m\u001b[37;40mnpm\u001b[0m \u001b[0m\u001b[31;40mERR!\u001b[0m \u001b[0m\u001b[35mcode\u001b[0m ELIFECYCLE\n",
            "\u001b[0m\u001b[37;40mnpm\u001b[0m \u001b[0m\u001b[31;40mERR!\u001b[0m \u001b[0m\u001b[35merrno\u001b[0m 1\n",
            "\u001b[0m\u001b[37;40mnpm\u001b[0m \u001b[0m\u001b[31;40mERR!\u001b[0m\u001b[35m\u001b[0m zeromq@5.2.8 build:libzmq: `node-gyp rebuild`\n",
            "\u001b[0m\u001b[37;40mnpm\u001b[0m \u001b[0m\u001b[31;40mERR!\u001b[0m\u001b[35m\u001b[0m Exit status 1\n",
            "\u001b[0m\u001b[37;40mnpm\u001b[0m \u001b[0m\u001b[31;40mERR!\u001b[0m\u001b[35m\u001b[0m \n",
            "\u001b[0m\u001b[37;40mnpm\u001b[0m \u001b[0m\u001b[31;40mERR!\u001b[0m\u001b[35m\u001b[0m Failed at the zeromq@5.2.8 build:libzmq script.\n",
            "\u001b[0m\u001b[37;40mnpm\u001b[0m \u001b[0m\u001b[31;40mERR!\u001b[0m\u001b[35m\u001b[0m This is probably not a problem with npm. There is likely additional logging output above.\n",
            "\u001b[0m\n",
            "\u001b[37;40mnpm\u001b[0m \u001b[0m\u001b[31;40mERR!\u001b[0m\u001b[35m\u001b[0m A complete log of this run can be found in:\n",
            "\u001b[0m\u001b[37;40mnpm\u001b[0m \u001b[0m\u001b[31;40mERR!\u001b[0m\u001b[35m\u001b[0m     /root/.npm/_logs/2022-08-27T21_25_08_299Z-debug.log\n",
            "\u001b[K\u001b[?25h\u001b[37;40mnpm\u001b[0m \u001b[0m\u001b[31;40mERR!\u001b[0m \u001b[0m\u001b[35mcode\u001b[0m ELIFECYCLE\n",
            "\u001b[0m\u001b[37;40mnpm\u001b[0m \u001b[0m\u001b[31;40mERR!\u001b[0m \u001b[0m\u001b[35merrno\u001b[0m 1\n",
            "\u001b[0m\u001b[37;40mnpm\u001b[0m \u001b[0m\u001b[31;40mERR!\u001b[0m\u001b[35m\u001b[0m zeromq@5.2.8 install: `node-gyp-build || npm run build:libzmq`\n",
            "\u001b[0m\u001b[37;40mnpm\u001b[0m \u001b[0m\u001b[31;40mERR!\u001b[0m\u001b[35m\u001b[0m Exit status 1\n",
            "\u001b[0m\u001b[37;40mnpm\u001b[0m \u001b[0m\u001b[31;40mERR!\u001b[0m\u001b[35m\u001b[0m \n",
            "\u001b[0m\u001b[37;40mnpm\u001b[0m \u001b[0m\u001b[31;40mERR!\u001b[0m\u001b[35m\u001b[0m Failed at the zeromq@5.2.8 install script.\n",
            "\u001b[0m\u001b[37;40mnpm\u001b[0m \u001b[0m\u001b[31;40mERR!\u001b[0m\u001b[35m\u001b[0m This is probably not a problem with npm. There is likely additional logging output above.\n",
            "\u001b[0m\n",
            "\u001b[37;40mnpm\u001b[0m \u001b[0m\u001b[31;40mERR!\u001b[0m\u001b[35m\u001b[0m A complete log of this run can be found in:\n",
            "\u001b[0m\u001b[37;40mnpm\u001b[0m \u001b[0m\u001b[31;40mERR!\u001b[0m\u001b[35m\u001b[0m     /root/.npm/_logs/2022-08-27T21_25_08_483Z-debug.log\n",
            "\u001b[0m/bin/bash: ijsinstall: command not found\n",
            "Available kernels:\n",
            "  ir         /usr/local/share/jupyter/kernels/ir\n",
            "  python3    /usr/local/share/jupyter/kernels/python3\n"
          ]
        }
      ],
      "source": [
        "!npm install -g --unsafe-perm ijavascript\n",
        "!ijsinstall --install=global\n",
        "!jupyter-kernelspec list"
      ]
    },
    {
      "cell_type": "markdown",
      "metadata": {
        "id": "r2UzIt5Gi6Em"
      },
      "source": [
        "That's it! :) Now in the next cells you can write JavaScript"
      ]
    },
    {
      "cell_type": "markdown",
      "metadata": {
        "id": "MMyXtMptltc9"
      },
      "source": [
        "# Example of usage"
      ]
    },
    {
      "cell_type": "markdown",
      "metadata": {
        "id": "qbVfsd0emCWY"
      },
      "source": [
        "**Remember not to use `const` or `let`! Use `var` instead**\n",
        "\n",
        "This is how you can execute shell commands:"
      ]
    },
    {
      "cell_type": "code",
      "execution_count": null,
      "metadata": {
        "colab": {
          "base_uri": "https://localhost:8080/"
        },
        "id": "skqAs_UHc8_P",
        "outputId": "9149db25-3964-4228-98da-4cfc329f10e0",
        "vscode": {
          "languageId": "python"
        }
      },
      "outputs": [
        {
          "ename": "SyntaxError",
          "evalue": "ignored",
          "output_type": "error",
          "traceback": [
            "\u001b[0;36m  File \u001b[0;32m\"<ipython-input-2-9c368944b455>\"\u001b[0;36m, line \u001b[0;32m1\u001b[0m\n\u001b[0;31m    var { spawn } = require('child_process');\u001b[0m\n\u001b[0m        ^\u001b[0m\n\u001b[0;31mSyntaxError\u001b[0m\u001b[0;31m:\u001b[0m invalid syntax\n"
          ]
        }
      ],
      "source": [
        "var { spawn } = require('child_process');\n",
        "var sh = (cmd) => { \n",
        "    $$.async();\n",
        "    var sp = spawn(cmd, { cwd: process.cwd(), stdio: 'pipe', shell: true, encoding: 'utf-8' });\n",
        "    sp.stdout.on('data', data => console.log(data.toString()));\n",
        "    sp.stderr.on('data', data => console.error(data.toString()));\n",
        "    sp.on('close', () => $$.done());\n",
        "};\n",
        "var run_async = async (pf) => {\n",
        "  $$.async();\n",
        "  await pf();\n",
        "  $$.done();\n",
        "};\n",
        "sh('npm init -y');"
      ]
    },
    {
      "cell_type": "code",
      "execution_count": null,
      "metadata": {
        "id": "1oqifUNtdID-",
        "vscode": {
          "languageId": "python"
        }
      },
      "outputs": [],
      "source": [
        "sh('node -v; npm -v');"
      ]
    },
    {
      "cell_type": "code",
      "execution_count": null,
      "metadata": {
        "id": "28tLRTVq8xms",
        "vscode": {
          "languageId": "python"
        }
      },
      "outputs": [],
      "source": [
        "sh('npm install synthetic')"
      ]
    },
    {
      "cell_type": "code",
      "execution_count": null,
      "metadata": {
        "id": "9hoQW3aRFtBH",
        "vscode": {
          "languageId": "python"
        }
      },
      "outputs": [],
      "source": [
        "require( '../index.js');\n",
        "\n",
        " compile(\n",
        " \n",
        "     promoter(['BBa_C0040', '7BKX']) \n",
        "     +  rbs(['gcg', 'aaa']) \n",
        "     + cds('aaa') \n",
        "     + terminator('tgcatggc')\n",
        "     \n",
        "     )\n",
        " "
      ]
    }
  ],
  "metadata": {
    "accelerator": "GPU",
    "colab": {
      "collapsed_sections": [],
      "machine_shape": "hm",
      "name": "synthetic-colab.ipynb",
      "provenance": []
    },
    "kernelspec": {
      "display_name": "Javascript",
      "name": "javascript"
    }
  },
  "nbformat": 4,
  "nbformat_minor": 0
}
