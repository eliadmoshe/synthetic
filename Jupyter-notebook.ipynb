{
 "cells": [
  {
   "cell_type": "code",
   "execution_count": null,
   "metadata": {
    "vscode": {
     "languageId": "javascript"
    }
   },
   "outputs": [],
   "source": [
    "\n",
    "\n",
    " require( './index.js');\n",
    "\n",
    " compile(\n",
    " \n",
    "     promoter(['BBa_C0040', '7BKX']) \n",
    "     +  rbs(['gcg', 'aaa']) \n",
    "     + cds('aaa') \n",
    "     + terminator('tgcatggc')\n",
    "     \n",
    "     )"
   ]
  }
 ],
 "metadata": {
  "kernelspec": {
   "display_name": "Python 3.10.5 64-bit",
   "language": "python",
   "name": "python3"
  },
  "language_info": {
   "name": "python",
   "version": "3.10.5"
  },
  "orig_nbformat": 4,
  "vscode": {
   "interpreter": {
    "hash": "50079d7e4ae771a1e20ce36daa91e114c8f2f3b3b4f3549c0dd15c5ded6d9d69"
   }
  }
 },
 "nbformat": 4,
 "nbformat_minor": 2
}
